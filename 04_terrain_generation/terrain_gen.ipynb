{
 "cells": [
  {
   "metadata": {},
   "cell_type": "markdown",
   "source": [
    "# Evolution generation of terrain\n",
    "\n",
    "Tento script slouží ke generaci podle uričtých kritérii.\n",
    "\n",
    "### Instalace kinhoven\n",
    "\n",
    "1. vytvoření virtuálního prostředí\n",
    "```bash\n",
    "py -m venv .venv\n",
    "```\n",
    "2. instalace knihoven\n",
    "```bash\n",
    "pip install -r requirements.txt\n",
    "```\n",
    "3. spuštění virtuálního prostředí\n",
    "```bash\n",
    ".\\.venv\\Scripts\\activate\n",
    "```\n",
    "\n",
    "### Technologie\n",
    "Využívájí se technologie [DEAP](https://deap.readthedocs.io/en/master/overview.html) a [numpy](https://numpy.org/doc/stable/) a [matplotlib](https://matplotlib.org/stable/index.html)\n",
    "\n",
    "### Důležité Definice\n",
    "1. Vrcholek je bod terénu, jehož levý a pravý soused (předchozí a následující bod) jsou nižší\n",
    "2. Úroveň vody je konstantní přes celý terén a jedná se o hodnotu 0.5\n",
    "3. Jezero je část terénu pod hodnotou 0.5 a nejnižší bod je vyšší než 0.4\n",
    "4. Moře je část terénu pod hodnotou 0.5 (nejnižší bod není omezen)\n",
    "\n",
    "### Kritéria evoluce\n",
    "1. Počet vrcholků\n",
    "2. Počet jezer\n",
    "3. Počet moří\n",
    "4. Procento terénu pod vodou\n",
    "5. Variabilita\n",
    "6. Drsnost terénu\n",
    "\n",
    "## Užité funkce\n",
    "\n",
    "#### plotterrain(t)\n",
    "\n",
    "Funkce, která vykresluje terén. Přebírá list float čísel (mezi 0.0 a 1.0), která reprezentují body terénu."
   ],
   "id": "6bf04cc980d6f9fe"
  },
  {
   "metadata": {
    "ExecuteTime": {
     "end_time": "2025-05-02T14:09:03.670437Z",
     "start_time": "2025-05-02T14:09:03.537494Z"
    }
   },
   "cell_type": "code",
   "source": [
    "import matplotlib.pyplot as plt\n",
    "\n",
    "def plotterrain(t):\n",
    "    \"\"\"\n",
    "    Terrain is a list of float numbers between 0 and 1, and water level is 0.5\n",
    "\n",
    "    :param t: list of float numbers representing the terrain\n",
    "    :return: None\n",
    "    \"\"\"\n",
    "\n",
    "    fig, ax = plt.subplots()\n",
    "\n",
    "    x = range(len(t))\n",
    "    sea = [0.5 for i in range(len(t))]\n",
    "\n",
    "    ax.fill_between(x, sea, color=\"turquoise\")\n",
    "    ax.fill_between(x, t, color=\"sandybrown\")\n",
    "\n",
    "    plt.axis(\"off\")\n",
    "    plt.show()\n",
    "\n",
    "# example\n",
    "terrain = [0.9, 0.6, 0.4, 0.2, 0.5, 0.6, 0.6]\n",
    "plotterrain(terrain)\n"
   ],
   "id": "b9568a6880feeaaf",
   "outputs": [
    {
     "data": {
      "text/plain": [
       "<Figure size 640x480 with 1 Axes>"
      ],
      "image/png": "[encoded data removed]"
     },
     "metadata": {},
     "output_type": "display_data"
    }
   ],
   "execution_count": 17
  },
  {
   "metadata": {},
   "cell_type": "markdown",
   "source": [
    "### Funkce použité pro evoluční fitness funkci\n",
    "Tyto funkce slouží jako kritéria pro posouzení potomka evoluce, zda-li se jedná o kvalitního či nekvalitního potomka.\n",
    "\n",
    "#### count_peaks(t)\n",
    "Funkce count peaks dostane jako parametr body terénu a vrátí počet vrcholků odpovídající definici"
   ],
   "id": "eaeab40c7b6fcc0a"
  },
  {
   "metadata": {
    "ExecuteTime": {
     "end_time": "2025-05-02T14:09:03.733280Z",
     "start_time": "2025-05-02T14:09:03.712911Z"
    }
   },
   "cell_type": "code",
   "source": [
    "def count_peaks(t):\n",
    "    \"\"\"\n",
    "    Used to count the number of peaks in the terrain.\n",
    "    The definition of a peak is on the line #6\n",
    "\n",
    "    :param t: list of floats that represents points in the terrain\n",
    "    :return: number of peaks in the terrain\n",
    "    \"\"\"\n",
    "    count = 0\n",
    "    for i in range(len(t)):\n",
    "\n",
    "        # edge case 1 --> first point in terrain\n",
    "        if i == 0 and t[i] > t[i + 1]:\n",
    "            count += 1\n",
    "\n",
    "        # edge case 2 --> last point in terrain\n",
    "        elif i == len(t) - 1 and t[i] > t[i - 1]:\n",
    "            count += 1\n",
    "\n",
    "        # point in terrain\n",
    "        elif 0 < i <len(t) and t[i-1] < t[i] > t[i+1]:\n",
    "            count += 1\n",
    "\n",
    "    return count\n",
    "\n",
    "terrain_1 = [0.9, 0.6, 0.4, 0.2, 0.5, 0.7, 0.6] # expected output: 2 -> points 0.9 and 0.7 are peaks\n",
    "print(f\"Output num.1 : {count_peaks(terrain)}\")\n",
    "\n",
    "terrain_2 = [0.5, 0.7, 0.7, 0.7, 0.5] # expected output: 0 -> no peaks all flatlands\n",
    "print(f\"Output num.2 : {count_peaks(terrain_2)}\")"
   ],
   "id": "18bb1550b77994b",
   "outputs": [
    {
     "name": "stdout",
     "output_type": "stream",
     "text": [
      "Output num.1 : 1\n",
      "Output num.2 : 0\n"
     ]
    }
   ],
   "execution_count": 18
  },
  {
   "metadata": {},
   "cell_type": "markdown",
   "source": [
    "#### count_lakes_seas(t)\n",
    "Funkce spočítá kolik se nachází v terénu jezer a moří podle definice"
   ],
   "id": "760bc0c30dede0fb"
  },
  {
   "metadata": {
    "ExecuteTime": {
     "end_time": "2025-05-02T14:09:03.808362Z",
     "start_time": "2025-05-02T14:09:03.790451Z"
    }
   },
   "cell_type": "code",
   "source": [
    "def count_lakes_seas(t):\n",
    "    \"\"\"\n",
    "    Used to count the number of lakes and seas in the terrain.\n",
    "    Definitions of lake and sea in this program is on line #8 and #9\n",
    "\n",
    "    :param t: list of floats that represents points in the terrain\n",
    "    :return: number of lakes and seas in the terrain\n",
    "    \"\"\"\n",
    "    lake_count = 0\n",
    "    sea_count = 0\n",
    "    in_water = False\n",
    "    min_height = 1.0\n",
    "\n",
    "    for height in t:\n",
    "        if not in_water and height <= 0.5:  # entering water\n",
    "            in_water = True\n",
    "            min_height = height  # start tracking minimum height\n",
    "        elif in_water:\n",
    "            if height <= 0.5:  # still in water\n",
    "                min_height = min(min_height, height)  # update minimum height\n",
    "            else:  # exiting water\n",
    "                # classify water body based on minimum height\n",
    "                if min_height < 0.4:\n",
    "                    sea_count += 1\n",
    "                else:\n",
    "                    lake_count += 1\n",
    "                in_water = False\n",
    "\n",
    "    # edge case -> terrain ends while still in water\n",
    "    if in_water:\n",
    "        if min_height < 0.4:\n",
    "            sea_count += 1\n",
    "        else:\n",
    "            lake_count += 1\n",
    "\n",
    "    return lake_count, sea_count\n",
    "\n",
    "# examples\n",
    "terrain_3 = [0.9, 0.6, 0.4, 0.2, 0.5, 0.7, 0.6] # expected output: 0, 0 -> no lakes and no seas\n",
    "lake, seas = count_lakes_seas(terrain)\n",
    "print(f\"Output num.3 : sea count: {seas}, lake count: {lake}\")\n",
    "\n",
    "terrain_4 = [0.6, 0.2, 0.4, 0.7, 0.5, 0.4, 0.8] # expected output: 1, 1 -> one lake and one seas\n",
    "lake, seas = count_lakes_seas(terrain_2)\n",
    "print(f\"Output num.4 : sea count: {seas}, lake count: {lake}\")\n"
   ],
   "id": "b04e163f5bbeafcc",
   "outputs": [
    {
     "name": "stdout",
     "output_type": "stream",
     "text": [
      "Output num.3 : sea count: 1, lake count: 0\n",
      "Output num.4 : sea count: 0, lake count: 2\n"
     ]
    }
   ],
   "execution_count": 19
  },
  {
   "metadata": {},
   "cell_type": "markdown",
   "source": [
    "#### water_coverage(t)\n",
    "Velmi jednoduchá funkce, která vrací kolik procent terénu je pod hladinou vody (viz. definice)"
   ],
   "id": "4c9ace17cecefb9c"
  },
  {
   "metadata": {
    "ExecuteTime": {
     "end_time": "2025-05-02T14:09:03.893576Z",
     "start_time": "2025-05-02T14:09:03.876910Z"
    }
   },
   "cell_type": "code",
   "source": [
    "def water_coverage(t):\n",
    "    \"\"\"\n",
    "    Used to calculate how much land is underwater\n",
    "\n",
    "    :param t: list of floats that represents points in the terrain\n",
    "    :return: percentage of water coverage\n",
    "    \"\"\"\n",
    "    # water level is 0.5\n",
    "    water_level = 0.5\n",
    "    return sum(1 for i in t if i < water_level) / len(t)\n",
    "\n",
    "# example\n",
    "terrain_5 = [0.9, 0.6, 0.4, 0.2, 0.5, 0.7, 0.6] # expected output: 0.4 -> 40% of terrain is underwater\n",
    "print(f\"Output num.5 : {water_coverage(terrain):.2f}%\")\n",
    "\n",
    "terrain_6 = [0.3, 0.2, 0.1, 0.4, 0.2] # expected output: 1 -> 100% of terrain is underwater\n",
    "print(f\"Output num.6 : {water_coverage(terrain_6):.2f}%\")"
   ],
   "id": "517e9f9a94424ab",
   "outputs": [
    {
     "name": "stdout",
     "output_type": "stream",
     "text": [
      "Output num.5 : 0.29%\n",
      "Output num.6 : 1.00%\n"
     ]
    }
   ],
   "execution_count": 20
  },
  {
   "metadata": {},
   "cell_type": "markdown",
   "source": [
    "#### terrain_variability(t)\n",
    "Funkce vrací deviaci v terénu.\n"
   ],
   "id": "6c1e8d86c77c7f1e"
  },
  {
   "metadata": {
    "ExecuteTime": {
     "end_time": "2025-05-02T14:09:03.934011Z",
     "start_time": "2025-05-02T14:09:03.920222Z"
    }
   },
   "cell_type": "code",
   "source": [
    "import numpy as np\n",
    "\n",
    "def terrain_variability(t):\n",
    "    \"\"\"\n",
    "    :param t: list of floats that represents points in the terrain\n",
    "    :return: Returns the standard deviation of the terrain\n",
    "    \"\"\"\n",
    "    return np.std(t)\n",
    "\n",
    "# example\n",
    "terrain_7 = [0.9, 0.5, 0.4, 0.6, 0.5, 0.7, 0.6] # expected output: 0.15 -> terrain has low variability\n",
    "print(f\"Output num.7 : {terrain_variability(terrain_7):.2f}\")\n",
    "\n",
    "terrain_8 = [0.1, 1.0, 0.3, 0.9, 0.3, 1.0] # expected output: 0.37 -> terrain has high variability\n",
    "print(f\"Output num.8: {terrain_variability(terrain_8):.2f}\")"
   ],
   "id": "66c83d6ced900176",
   "outputs": [
    {
     "name": "stdout",
     "output_type": "stream",
     "text": [
      "Output num.7 : 0.15\n",
      "Output num.8: 0.37\n"
     ]
    }
   ],
   "execution_count": 21
  },
  {
   "metadata": {},
   "cell_type": "markdown",
   "source": [
    "#### terrain_roughness(t)\n",
    "Funkce vrací průměrný rozdíl mezi dvoumi sousedícími body."
   ],
   "id": "177c5d9c26df79f8"
  },
  {
   "metadata": {
    "ExecuteTime": {
     "end_time": "2025-05-02T14:09:03.997554Z",
     "start_time": "2025-05-02T14:09:03.983963Z"
    }
   },
   "cell_type": "code",
   "source": [
    "def terrain_roughness(t):\n",
    "    \"\"\"\n",
    "    Used to determine the terrain roughness\n",
    "\n",
    "    :param t: list of floats that represents points in the terrain\n",
    "    :return: average difference between two neighboring points\n",
    "    \"\"\"\n",
    "    return sum(abs(t[i] - t[i-1]) for i in range(1, len(t))) / (len(t)-1)\n",
    "\n",
    "# example\n",
    "terrain_9 = [0.3, 0.2, 0.3, 0.4, 0.5, 0.9] # expected output: 0.16 -> terrain has low roughness\n",
    "print(f\"Output num.9 : {terrain_roughness(terrain_9):.2f}\")\n",
    "\n",
    "terrain_10 = [0.1, 1.0, 0.1, 0.9, 0.2, 1.0] # expected output: 0.82 -> terrain has high roughness\n",
    "print(f\"Output num.10 : {terrain_roughness(terrain_10):.2f}\")"
   ],
   "id": "13738dd70e11910e",
   "outputs": [
    {
     "name": "stdout",
     "output_type": "stream",
     "text": [
      "Output num.9 : 0.16\n",
      "Output num.10 : 0.82\n"
     ]
    }
   ],
   "execution_count": 22
  },
  {
   "metadata": {},
   "cell_type": "markdown",
   "source": [
    "### Vyhodnovací funkce\n",
    "Tato funkce kombinuje veškerá kritéria plus jednu další aby zjistila jak moc dobrý je daný potomek (terén). Přidal jsem ještě jedno kritérium, které zamezuje příliš velkým vrcholkům, jelikož to tvořilo velmi nepěknou krajinu. Funkce vrací tuple desetinnéh čísla v intervalo (-infinit, 0>. Jelikož chceme maximalizovat fitness potomka chceme co nejvyšší číslo. Pozn. Funkce vrací tuple jelikož tak požaduje funkce knihovny DEAP\n"
   ],
   "id": "e830c85093737b22"
  },
  {
   "metadata": {
    "ExecuteTime": {
     "end_time": "2025-05-02T14:09:04.062190Z",
     "start_time": "2025-05-02T14:09:04.047397Z"
    }
   },
   "cell_type": "code",
   "source": [
    "from main import count_peaks, count_lakes_seas, water_coverage, terrain_variability, terrain_roughness\n",
    "\n",
    "def evaluate(terrain):\n",
    "    peaks = count_peaks(terrain)\n",
    "    lakes, seas = count_lakes_seas(terrain)\n",
    "    coverage = water_coverage(terrain)\n",
    "    variability = terrain_variability(terrain)\n",
    "    roughness = terrain_roughness(terrain)\n",
    "\n",
    "    # punish high peaks\n",
    "    peak_penality = sum(1 for h in terrain if h > 0.8) * -0.5\n",
    "\n",
    "    # Goals: 3-4 peaks, 2–3 lakes, 1-2 seas, 60% water, moderate variability, smoothness\n",
    "    peak_score = -abs(peaks - 3.5) # best if ~3-4 peaks\n",
    "    lake_score = -abs(lakes - 2.5)  # best if ~2–3 lakes\n",
    "    sea_score = -abs(seas - 1.5) # best if ~1–2 seas\n",
    "    water_score = -abs(coverage - 0.6)  # best if ~60% flooded\n",
    "    var_score = -abs(variability - 0.15)  # ideal variability\n",
    "    rough_score = -abs(roughness - 0.2)   # ideal roughness\n",
    "\n",
    "    return peak_score + lake_score + sea_score + water_score + var_score + rough_score + peak_penality,\n",
    "\n",
    "# example\n",
    "terrain_11 = [0.8, 0.2, 0.4, 0.6, 0.5, 0.4, 0.7, 0.4, 0.4, 0.6]\n",
    "\"\"\"\n",
    "\n",
    "peak penality: 0   --> 0\n",
    "peaks: 4           --> -0.5\n",
    "lakes: 2           --> -0.5\n",
    "seas: 1            --> -0.5\n",
    "coverage: 50%      --> -0.1\n",
    "variability: 0.17  --> -0.02\n",
    "roughness: 0.22    --> -0.02\n",
    "expected output:   --> -1.64 --> almost perfect terrain\n",
    "\"\"\"\n",
    "print(f\"Output num.11 : {evaluate(terrain_11)[0]}\")\n"
   ],
   "id": "b49da35c839b8de3",
   "outputs": [
    {
     "name": "stdout",
     "output_type": "stream",
     "text": [
      "Output num.11 : -1.6395542275290373\n"
     ]
    }
   ],
   "execution_count": 23
  },
  {
   "metadata": {},
   "cell_type": "markdown",
   "source": [
    "#### Pomocná mutovací funkce\n",
    "Při využití mutace je možné, že hodnoty mohou být mimo interval <0.0; 1.0>, proto využíváme tuto funkci, abychom se těmto situacím vyhnuli.\n",
    "\n",
    "```python\n",
    "def bounded_mutation(individual, mu, sigma, indpb):\n",
    "    for i in range(len(individual)):\n",
    "        individual[i] = min(max(individual[i], 0.0), 1.0)\n",
    "    return individual,\n",
    "```\n",
    "#### Hlavní generovací\n",
    "Tato funkce všechny věci jako skládačku spojí a vygeneruje terén o `LENGTH` bodech. Populace je definována proměnou `POP_SIZE`, která bude mít `NGEN` generací. Další parametry, které ovlivňují evoluční generování jsou `MUTPB` (pravděpodobnost mutace) a `CXPB`(pravděpodobnost crossoveru). Nové generace se vybýrají na systému turnaje, kde se ze X náhodných vyberou ti nejlepší."
   ],
   "id": "e2eb3d558f0bd641"
  },
  {
   "metadata": {
    "ExecuteTime": {
     "end_time": "2025-05-02T14:09:22.788351Z",
     "start_time": "2025-05-02T14:09:04.109306Z"
    }
   },
   "cell_type": "code",
   "source": [
    "import random\n",
    "from main import bounded_mutation\n",
    "from deap import base, creator, tools, algorithms\n",
    "\n",
    "def main():\n",
    "    LENGTH = 50     # number of terrain points\n",
    "    POP_SIZE = 1000  # number of individuals in the population\n",
    "    NGEN = 100       # number of generations to evolve\n",
    "    MUTPB = 0.2      # probability of mutation\n",
    "    CXPB = 0.5       # probability of crossover\n",
    "\n",
    "    creator.create(\"FitnessMax\", base.Fitness, weights=(1.0,))\n",
    "    creator.create(\"Individual\", list, fitness=creator.FitnessMax)\n",
    "\n",
    "    toolbox = base.Toolbox()\n",
    "    toolbox.register(\"attr_float\", random.uniform, 0.1, 0.9)\n",
    "    toolbox.register(\"individual\", tools.initRepeat, creator.Individual, toolbox.attr_float, LENGTH)\n",
    "    toolbox.register(\"population\", tools.initRepeat, list, toolbox.individual)\n",
    "\n",
    "    toolbox.register(\"evaluate\", evaluate)\n",
    "    toolbox.register(\"mate\", tools.cxBlend, alpha=0.5)\n",
    "    toolbox.register(\"mutate\", bounded_mutation, mu=0, sigma=0.01, indpb=0.1)\n",
    "    toolbox.register(\"select\", tools.selTournament, tournsize=3)\n",
    "\n",
    "    pop = toolbox.population(n=POP_SIZE)\n",
    "\n",
    "    # evolution\n",
    "    for gen in range(NGEN):\n",
    "        offspring = algorithms.varAnd(pop, toolbox, cxpb=CXPB, mutpb=MUTPB)\n",
    "        fits = list(map(toolbox.evaluate, offspring))\n",
    "        for ind, fit in zip(offspring, fits):\n",
    "            ind.fitness.values = fit\n",
    "        pop = toolbox.select(offspring, k=len(pop))\n",
    "\n",
    "        top = tools.selBest(pop, 1)[0]\n",
    "        print(f\"Gen {gen} Best fitness: {top.fitness.values[0]:.4f}\")\n",
    "\n",
    "    # show the best terrain\n",
    "    best = tools.selBest(pop, 1)[0]\n",
    "    print(best)\n",
    "    plotterrain(best)\n",
    "\n",
    "main()"
   ],
   "id": "3fcc12abbfaac25b",
   "outputs": [
    {
     "name": "stdout",
     "output_type": "stream",
     "text": [
      "Gen 0 Best fitness: -19.2205\n",
      "Gen 1 Best fitness: -19.1834\n",
      "Gen 2 Best fitness: -18.7268\n",
      "Gen 3 Best fitness: -15.6495\n",
      "Gen 4 Best fitness: -15.6495\n",
      "Gen 5 Best fitness: -15.6495\n",
      "Gen 6 Best fitness: -15.5769\n",
      "Gen 7 Best fitness: -15.6499\n",
      "Gen 8 Best fitness: -15.6490\n",
      "Gen 9 Best fitness: -15.6499\n",
      "Gen 10 Best fitness: -15.6499\n",
      "Gen 11 Best fitness: -15.1886\n",
      "Gen 12 Best fitness: -14.7018\n",
      "Gen 13 Best fitness: -14.2012\n",
      "Gen 14 Best fitness: -13.1798\n",
      "Gen 15 Best fitness: -13.1797\n",
      "Gen 16 Best fitness: -13.1797\n",
      "Gen 17 Best fitness: -12.6268\n",
      "Gen 18 Best fitness: -12.1599\n",
      "Gen 19 Best fitness: -12.1599\n",
      "Gen 20 Best fitness: -12.1432\n",
      "Gen 21 Best fitness: -11.1706\n",
      "Gen 22 Best fitness: -11.1706\n",
      "Gen 23 Best fitness: -11.1304\n",
      "Gen 24 Best fitness: -11.5818\n",
      "Gen 25 Best fitness: -11.5810\n",
      "Gen 26 Best fitness: -9.6114\n",
      "Gen 27 Best fitness: -9.6089\n",
      "Gen 28 Best fitness: -8.1318\n",
      "Gen 29 Best fitness: -8.1318\n",
      "Gen 30 Best fitness: -8.1318\n",
      "Gen 31 Best fitness: -8.1318\n",
      "Gen 32 Best fitness: -8.1318\n",
      "Gen 33 Best fitness: -8.1315\n",
      "Gen 34 Best fitness: -8.1252\n",
      "Gen 35 Best fitness: -8.1272\n",
      "Gen 36 Best fitness: -7.6166\n",
      "Gen 37 Best fitness: -7.6166\n",
      "Gen 38 Best fitness: -7.1368\n",
      "Gen 39 Best fitness: -6.6335\n",
      "Gen 40 Best fitness: -6.6335\n",
      "Gen 41 Best fitness: -6.6335\n",
      "Gen 42 Best fitness: -6.6335\n",
      "Gen 43 Best fitness: -6.6165\n",
      "Gen 44 Best fitness: -6.6164\n",
      "Gen 45 Best fitness: -6.6162\n",
      "Gen 46 Best fitness: -6.6163\n",
      "Gen 47 Best fitness: -6.6148\n",
      "Gen 48 Best fitness: -6.6112\n",
      "Gen 49 Best fitness: -6.6112\n",
      "Gen 50 Best fitness: -6.6120\n",
      "Gen 51 Best fitness: -6.6103\n",
      "Gen 52 Best fitness: -6.6110\n",
      "Gen 53 Best fitness: -6.6086\n",
      "Gen 54 Best fitness: -6.6082\n",
      "Gen 55 Best fitness: -6.6077\n",
      "Gen 56 Best fitness: -6.6074\n",
      "Gen 57 Best fitness: -6.6060\n",
      "Gen 58 Best fitness: -6.6042\n",
      "Gen 59 Best fitness: -6.6032\n",
      "Gen 60 Best fitness: -6.6019\n",
      "Gen 61 Best fitness: -6.6019\n",
      "Gen 62 Best fitness: -6.6009\n",
      "Gen 63 Best fitness: -6.6004\n",
      "Gen 64 Best fitness: -6.6004\n",
      "Gen 65 Best fitness: -6.5986\n",
      "Gen 66 Best fitness: -6.5980\n",
      "Gen 67 Best fitness: -6.5980\n",
      "Gen 68 Best fitness: -6.5965\n",
      "Gen 69 Best fitness: -6.5961\n",
      "Gen 70 Best fitness: -6.5958\n",
      "Gen 71 Best fitness: -6.5945\n",
      "Gen 72 Best fitness: -6.5945\n",
      "Gen 73 Best fitness: -6.5935\n",
      "Gen 74 Best fitness: -6.5925\n",
      "Gen 75 Best fitness: -6.5919\n",
      "Gen 76 Best fitness: -6.5908\n",
      "Gen 77 Best fitness: -6.5901\n",
      "Gen 78 Best fitness: -6.5899\n",
      "Gen 79 Best fitness: -6.5893\n",
      "Gen 80 Best fitness: -6.5890\n",
      "Gen 81 Best fitness: -6.5890\n",
      "Gen 82 Best fitness: -6.5885\n",
      "Gen 83 Best fitness: -6.5880\n",
      "Gen 84 Best fitness: -6.5865\n",
      "Gen 85 Best fitness: -6.5856\n",
      "Gen 86 Best fitness: -6.5856\n",
      "Gen 87 Best fitness: -6.5856\n",
      "Gen 88 Best fitness: -6.5849\n",
      "Gen 89 Best fitness: -6.5848\n",
      "Gen 90 Best fitness: -6.5848\n",
      "Gen 91 Best fitness: -6.5840\n",
      "Gen 92 Best fitness: -6.5832\n",
      "Gen 93 Best fitness: -6.5830\n",
      "Gen 94 Best fitness: -6.5820\n",
      "Gen 95 Best fitness: -6.5811\n",
      "Gen 96 Best fitness: -6.5803\n",
      "Gen 97 Best fitness: -6.5811\n",
      "Gen 98 Best fitness: -6.5811\n",
      "Gen 99 Best fitness: -6.5798\n",
      "[0.4133045438723899, 0.7650629511431861, 0.5900940177293612, 0.5853772993568624, 0.41112490504397536, 0.4282787878577885, 0.5506044732526401, 0.7612629585925241, 0.5585819581604018, 0.5304374271926559, 0.4084483839187144, 0.5796342751269169, 0.7108880164130248, 0.6156658833215007, 0.5343159965790331, 0.019996515887472317, 0.4086089137472893, 0.5391484407559799, 0.7410226079382297, 0.529887327754895, 0.4644897905896809, 0.43777258494174714, 0.0012091494425460411, 0.2574141910985102, 0.30556814237362206, 0.33862742804241364, 0.4551273158515768, 0.4911405680647712, 0.37183701384332235, 0.0025622022834011706, 0.3011357596710688, 0.36661023476147925, 0.44457981699669513, 0.7459199411680018, 0.6046408179555058, 0.5744186787073007, 0.5475472921999018, 0.3733188824953981, 0.04260548549011912, 0.2641039764808251, 0.3239185718342021, 0.3637703699724007, 0.3834396255377386, 0.47758435615045725, 0.41032479838219427, 0.02244074535645281, 0.4110590027823406, 0.4899005614405323, 0.540412981936474, 0.6746651573008696]\n"
     ]
    },
    {
     "data": {
      "text/plain": [
       "<Figure size 640x480 with 1 Axes>"
      ],
      "image/png": "[encoded data removed]"
     },
     "metadata": {},
     "output_type": "display_data"
    }
   ],
   "execution_count": 24
  },
  {
   "metadata": {},
   "cell_type": "markdown",
   "source": [
    "### Pozorování\n",
    "\n",
    "#### Vlivy kritérií\n",
    "Vliv kritérii měl samozřejmně vliv na rychlost generování, ale měl nejvíce vliv na to jak terén vypadal. Nízký počet vrcholků vedl k velkému množství rovin, ale zase vysoký počet vedl k 'zubaté' krajině. Zubatou krajinu také vytářel vysoký počet moří a jezer, které nutili populace k jejich tvoření. Procento terénu prod vodou, také krajinu úspěšně měnilo. Pokud bylo procento příliž velké krajina zase byla velmi zubatá, jelikož se evoluce snažila dosáhnout ideálního počtu vrcholků pouze s X% terénu. Drsnost a variabilita ovlivňovala terén lehce a sloužila spíše jako dolaďovač (fine tuner) pro generaci hezkého terénu.\n",
    "\n",
    "| název\t    | extrémně nízké číslo   \t                 | extrémně vysoké číslo |\n",
    "|-----------|------------------------------------------|-------------------|\n",
    "| vrcholky\t | \t  /terrains/terrain_low_peaks.png       | /terrain/terrain_high_peaks.png|\n",
    "| jezera\t   | \t/terrains/terrain_low_lakes.png         | /terrains/terrain_high_lakes.png |\n",
    "| moře\t     | \t   /terrains/terrain_low_seas.png       | /terrains/terrain_high_seas.png |\n",
    "| procento pod vodou | /terrains/terrain_low_water_coverage.png | /terrains/terrain_high_water_coverage.png |\n",
    "| variabilita | /terrains/terrain_low_variability.png    | /terrains/terrain_high_variability.png |\n",
    "| drsnost | /terrains/terrain_low_roughness.png      | /terrroughness.png|\n",
    "\n",
    "Pro mě krásný terén (score -3.50):\n",
    "viz.: /terrains/terrain_score_-35.png s defualtními hodnotami v `main.py`\n",
    "\n",
    "\n",
    "#### Ostatní parametry\n",
    "Ostatní parametry jako `MUTPB`, `CXPB`, `POP_SIZE`, `NGEN`, `tournsize` a další spíše ovlivňují jakou rychlostí se vyvíjí populace a jak rychle se přibližují perfektnímu skóre.\n",
    "\n",
    "| `MUTPB` | Vliv na evoluci                                                              |\n",
    "|---------| ---------------------------------------------------------------------------- |\n",
    "| **0.0 – 0.1** | Velmi nízká mutace → stabilní vývoj, ale malá rozmanitost → riziko uvíznutí. |\n",
    "| **0.1 – 0.3** | Optimální rozmezí → dobrá rovnováha mezi inovací a stabilitou.               |\n",
    "| **> 0.3**   | Vysoká mutace → chaotický vývoj, risk zničení dobrých řešení.                |\n",
    "\n",
    "| `CXPB`  | Vliv na evoluci                                                     |\n",
    "|---------| ------------------------------------------------------------------- |\n",
    "| **0.3 – 0.5** | Méně kombinací mezi rodiči → pomalejší šíření vlastností.           |\n",
    "| **0.5 – 0.8** | Vyvážený přenos genů, nejčastěji používané rozmezí.                 |\n",
    "| **> 0.8**   | Časté křížení → rychlejší vývoj, ale může vést ke ztrátě diverzity. |\n",
    "\n",
    "| `POP_SIZE` | Vliv na evoluci                                                          |\n",
    "|---------| ------------------------------------------------------------------------ |\n",
    "| **50 – 100** | Rychlá evoluce, ale malá rozmanitost → vyšší riziko špatné optimalizace. |\n",
    "| **200 – 500** | Vyvážené → dobrá diverzita i výpočetní náročnost.                        |\n",
    "| **> 500**   | Vysoká kvalita a stabilita výsledků, ale delší výpočetní čas.            |\n",
    "\n",
    "| `NGEN` | Vliv na evoluci                                                 |\n",
    "|--------| --------------------------------------------------------------- |\n",
    "| **10 – 30** | Rychlý vývoj, ale často nedostatečná optimalizace.              |\n",
    "| **50 – 100** | Vhodné pro většinu aplikací, dost času na vývoj dobrého řešení. |\n",
    "| **> 100**  | Hlubší prohledávání prostoru, ale výrazně delší čas.            |\n",
    "\n",
    "\n",
    "| `tournsize` | Selektivní tlak | Chování evoluce                                                                           |\n",
    "| ----------- | --------------- | ----------------------------------------------------------------------------------------- |\n",
    "| **2–3**     | Nízký           | Vysoká rozmanitost, pomalá evoluce. Jedinci s nižší kvalitou mají šanci přežít.           |\n",
    "| **4–7**     | Střední         | Rovnováha mezi rychlostí a rozmanitostí. Vhodné pro většinu případů.                      |\n",
    "| **8–15**    | Vysoký          | Rychlá evoluce, riziko ztráty rozmanitosti a uvíznutí v lokálním optimu.                  |\n",
    "| **>15**     | Velmi vysoký    | Extrémní tlak, téměř žádná šance pro slabé jedince. Hodí se jen ve speciálních situacích. |\n",
    "\n",
    "\n"
   ],
   "id": "2c64c8090aa9f9f1"
  }
 ],
 "metadata": {
  "kernelspec": {
   "display_name": "Python 3",
   "language": "python",
   "name": "python3"
  },
  "language_info": {
   "codemirror_mode": {
    "name": "ipython",
    "version": 2
   },
   "file_extension": ".py",
   "mimetype": "text/x-python",
   "name": "python",
   "nbconvert_exporter": "python",
   "pygments_lexer": "ipython2",
   "version": "2.7.6"
  }
 },
 "nbformat": 4,
 "nbformat_minor": 5
}
