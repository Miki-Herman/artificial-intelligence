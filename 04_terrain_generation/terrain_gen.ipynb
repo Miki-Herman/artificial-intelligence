{
 "cells": [
  {
   "metadata": {},
   "cell_type": "markdown",
   "source": [
    "# Evolution generation of terrain\n",
    "\n",
    "Tento script slouží ke generaci podle uričtých kritérii.\n",
    "\n",
    "### Instalace kinhoven\n",
    "\n",
    "1. vytvoření virtuálního prostředí\n",
    "```bash\n",
    "py -m venv .venv\n",
    "```\n",
    "2. instalace knihoven\n",
    "```bash\n",
    "pip install -r requirements.txt\n",
    "```\n",
    "\n",
    "### Technologie\n",
    "Využívájí se technologie [DEAP](https://deap.readthedocs.io/en/master/overview.html) a [numpy](https://numpy.org/doc/stable/) a [matplotlib](https://matplotlib.org/stable/index.html)\n",
    "\n",
    "### Důležité Definice\n",
    "1. Vrcholek je bod terénu, jehož levý a pravý soused (předchozí a následující bod) jsou nižší\n",
    "2. Úroveň vody je konstantní přes celý terén a jedná se o hodnotu 0.5\n",
    "3. Jezero je část terénu pod hodnotou 0.5 a nejnižší bod je vyšší než 0.4\n",
    "4. Moře je část terénu pod hodnotou 0.5 (nejnižší bod není omezen)\n",
    "\n",
    "### Kritéria evoluce\n",
    "1. Počet vrcholků\n",
    "2. Počet jezer\n",
    "3. Počet moří\n",
    "4. Procento terénu pod vodou\n",
    "5. Variabilita\n",
    "6. Drsnost terénu\n",
    "\n",
    "## Užité funkce\n",
    "\n",
    "#### plotterrain(t)\n",
    "\n",
    "Funkce, která vykresluje terén. Přebírá list float čísel (mezi 0.0 a 1.0), která reprezentují body terénu."
   ],
   "id": "6bf04cc980d6f9fe"
  },
  {
   "metadata": {
    "ExecuteTime": {
     "end_time": "2025-05-02T10:06:43.949718Z",
     "start_time": "2025-05-02T10:06:43.804748Z"
    }
   },
   "cell_type": "code",
   "source": [
    "import matplotlib.pyplot as plt\n",
    "\n",
    "def plotterrain(t):\n",
    "    \"\"\"\n",
    "    Terrain is a list of float numbers between 0 and 1, and water level is 0.5\n",
    "\n",
    "    :param t: list of float numbers representing the terrain\n",
    "    :return: None\n",
    "    \"\"\"\n",
    "\n",
    "    fig, ax = plt.subplots()\n",
    "\n",
    "    x = range(len(t))\n",
    "    sea = [0.5 for i in range(len(t))]\n",
    "\n",
    "    ax.fill_between(x, sea, color=\"turquoise\")\n",
    "    ax.fill_between(x, t, color=\"sandybrown\")\n",
    "\n",
    "    plt.axis(\"off\")\n",
    "    plt.show()\n",
    "\n",
    "# example\n",
    "terrain = [0.9, 0.6, 0.4, 0.2, 0.5, 0.6, 0.6]\n",
    "plotterrain(terrain)\n"
   ],
   "id": "b9568a6880feeaaf",
   "outputs": [
    {
     "data": {
      "text/plain": [
       "<Figure size 640x480 with 1 Axes>"
      ],
      "image/png": "[encoded data removed]"
     },
     "metadata": {},
     "output_type": "display_data"
    }
   ],
   "execution_count": 3
  },
  {
   "metadata": {},
   "cell_type": "markdown",
   "source": [
    "### Funkce použité pro evoluční fitness funkci\n",
    "Tyto funkce slouží jako kritéria pro posouzení potomka evoluce, zda-li se jedná o kvalitního či nekvalitního potomka.\n",
    "\n",
    "#### count_peaks(t)\n",
    "Funkce count peaks dostane jako parametr body terénu a vrátí počet vrcholků odpovídající definici"
   ],
   "id": "eaeab40c7b6fcc0a"
  },
  {
   "metadata": {
    "ExecuteTime": {
     "end_time": "2025-05-02T10:14:47.355007Z",
     "start_time": "2025-05-02T10:14:47.344602Z"
    }
   },
   "cell_type": "code",
   "source": [
    "def count_peaks(t):\n",
    "    \"\"\"\n",
    "    Used to count the number of peaks in the terrain.\n",
    "    The definition of a peak is on the line #6\n",
    "\n",
    "    :param t: list of floats that represents points in the terrain\n",
    "    :return: number of peaks in the terrain\n",
    "    \"\"\"\n",
    "    count = 0\n",
    "    for i in range(len(t)):\n",
    "\n",
    "        # edge case 1 --> first point in terrain\n",
    "        if i == 0 and t[i] > t[i + 1]:\n",
    "            count += 1\n",
    "\n",
    "        # edge case 2 --> last point in terrain\n",
    "        elif i == len(t) - 1 and t[i] > t[i - 1]:\n",
    "            count += 1\n",
    "\n",
    "        # point in terrain\n",
    "        elif 0 < i <len(t) and t[i-1] < t[i] > t[i+1]:\n",
    "            count += 1\n",
    "\n",
    "    return count\n",
    "\n",
    "terrain_1 = [0.9, 0.6, 0.4, 0.2, 0.5, 0.7, 0.6] # expected output: 2 -> points 0.9 and 0.7 are peaks\n",
    "print(f\"Output num.1 : {count_peaks(terrain)}\")\n",
    "\n",
    "terrain_2 = [0.5, 0.7, 0.7, 0.7, 0.5] # expected output: 0 -> no peaks all flatlands\n",
    "print(f\"Output num.2 : {count_peaks(terrain_2)}\")"
   ],
   "id": "18bb1550b77994b",
   "outputs": [
    {
     "name": "stdout",
     "output_type": "stream",
     "text": [
      "Output num.1 : 2\n",
      "Output num.2 : 0\n"
     ]
    }
   ],
   "execution_count": 5
  },
  {
   "metadata": {},
   "cell_type": "markdown",
   "source": [
    "#### count_lakes_seas(t)\n",
    "Funkce spočítá kolik se nachází v terénu jezer a moří podle definice"
   ],
   "id": "760bc0c30dede0fb"
  },
  {
   "metadata": {
    "ExecuteTime": {
     "end_time": "2025-05-02T10:27:09.639905Z",
     "start_time": "2025-05-02T10:27:09.629576Z"
    }
   },
   "cell_type": "code",
   "source": [
    "def count_lakes_seas(t):\n",
    "    \"\"\"\n",
    "    Used to count the number of lakes and seas in the terrain.\n",
    "    Definitions of lake and sea in this program is on line #8 and #9\n",
    "\n",
    "    :param t: list of floats that represents points in the terrain\n",
    "    :return: number of lakes and seas in the terrain\n",
    "    \"\"\"\n",
    "    lake_count = 0\n",
    "    sea_count = 0\n",
    "    in_water = False\n",
    "    min_height = 1.0\n",
    "\n",
    "    for height in t:\n",
    "        if not in_water and height <= 0.5:  # entering water\n",
    "            in_water = True\n",
    "            min_height = height  # start tracking minimum height\n",
    "        elif in_water:\n",
    "            if height <= 0.5:  # still in water\n",
    "                min_height = min(min_height, height)  # update minimum height\n",
    "            else:  # exiting water\n",
    "                # classify water body based on minimum height\n",
    "                if min_height < 0.4:\n",
    "                    sea_count += 1\n",
    "                else:\n",
    "                    lake_count += 1\n",
    "                in_water = False\n",
    "\n",
    "    # edge case -> terrain ends while still in water\n",
    "    if in_water:\n",
    "        if min_height < 0.4:\n",
    "            sea_count += 1\n",
    "        else:\n",
    "            lake_count += 1\n",
    "\n",
    "    return lake_count, sea_count\n",
    "\n",
    "# examples\n",
    "terrain_3 = [0.9, 0.6, 0.4, 0.2, 0.5, 0.7, 0.6] # expected output: 0, 0 -> no lakes and no seas\n",
    "lake, seas = count_lakes_seas(terrain)\n",
    "print(f\"Output num.3 : sea count: {seas}, lake count: {lake}\")\n",
    "\n",
    "terrain_4 = [0.6, 0.2, 0.4, 0.7, 0.5, 0.4, 0.8] # expected output: 1, 1 -> one lake and one seas\n",
    "lake, seas = count_lakes_seas(terrain_2)\n",
    "print(f\"Output num.4 : sea count: {seas}, lake count: {lake}\")\n"
   ],
   "id": "b04e163f5bbeafcc",
   "outputs": [
    {
     "name": "stdout",
     "output_type": "stream",
     "text": [
      "Output num.3 : sea count: 1, lake count: 0\n",
      "Output num.4 : sea count: 1, lake count: 1\n"
     ]
    }
   ],
   "execution_count": 6
  },
  {
   "metadata": {},
   "cell_type": "markdown",
   "source": [
    "#### water_coverage(t)\n",
    "Velmi jednoduchá funkce, která vrací kolik procent terénu je pod hladinou vody (viz. definice)"
   ],
   "id": "4c9ace17cecefb9c"
  },
  {
   "metadata": {},
   "cell_type": "code",
   "outputs": [],
   "execution_count": null,
   "source": [
    "def water_coverage(t):\n",
    "    \"\"\"\n",
    "    Used to calculate how much land is underwater\n",
    "\n",
    "    :param t: list of floats that represents points in the terrain\n",
    "    :return: percentage of water coverage\n",
    "    \"\"\"\n",
    "    # water level is 0.5\n",
    "    water_level = 0.5\n",
    "    return sum(1 for i in t if i < water_level) / len(t)\n",
    "\n",
    "# example\n",
    "terrain_5 = [0.9, 0.6, 0.4, 0.2, 0.5, 0.7, 0.6] # expected output: 0.4 -> 40% of terrain is underwater\n",
    "print(f\"Output num.5 : {water_coverage(terrain):.2f}%\")\n",
    "\n",
    "terrain_6 = [0.3, 0.2, 0.1, 0.4, 0.2] # expected output: 1 -> 100% of terrain is underwater\n",
    "print(f\"Output num.6 : {water_coverage(terrain_6):.2f}%\")"
   ],
   "id": "517e9f9a94424ab"
  },
  {
   "metadata": {},
   "cell_type": "markdown",
   "source": [
    "#### terrain_variability(t)\n",
    "Funkce vrací deviaci v terénu.\n"
   ],
   "id": "6c1e8d86c77c7f1e"
  },
  {
   "metadata": {
    "ExecuteTime": {
     "end_time": "2025-05-02T10:33:07.153703Z",
     "start_time": "2025-05-02T10:33:07.142258Z"
    }
   },
   "cell_type": "code",
   "source": [
    "import numpy as np\n",
    "\n",
    "def terrain_variability(t):\n",
    "    \"\"\"\n",
    "    :param t: list of floats that represents points in the terrain\n",
    "    :return: Returns the standard deviation of the terrain\n",
    "    \"\"\"\n",
    "    return np.std(t)\n",
    "\n",
    "# example\n",
    "terrain_7 = [0.9, 0.5, 0.4, 0.6, 0.5, 0.7, 0.6] # expected output: 0.15 -> terrain has low variability\n",
    "print(f\"Output num.7 : {terrain_variability(terrain_7):.2f}\")\n",
    "\n",
    "terrain_8 = [0.1, 1.0, 0.3, 0.9, 0.3, 1.0] # expected output: 0.37 -> terrain has high variability\n",
    "print(f\"Output num.8: {terrain_variability(terrain_8):.2f}\")"
   ],
   "id": "66c83d6ced900176",
   "outputs": [
    {
     "name": "stdout",
     "output_type": "stream",
     "text": [
      "Output num.7 : 0.15\n",
      "Output num.8: 0.37\n"
     ]
    }
   ],
   "execution_count": 7
  },
  {
   "metadata": {},
   "cell_type": "markdown",
   "source": [
    "#### terrain_roughness(t)\n",
    "Funkce vrací průměrný rozdíl mezi dvoumi sousedícími body."
   ],
   "id": "177c5d9c26df79f8"
  },
  {
   "metadata": {
    "ExecuteTime": {
     "end_time": "2025-05-02T10:37:31.546355Z",
     "start_time": "2025-05-02T10:37:31.535659Z"
    }
   },
   "cell_type": "code",
   "source": [
    "def terrain_roughness(t):\n",
    "    \"\"\"\n",
    "    Used to determine the terrain roughness\n",
    "\n",
    "    :param t: list of floats that represents points in the terrain\n",
    "    :return: average difference between two neighboring points\n",
    "    \"\"\"\n",
    "    return sum(abs(t[i] - t[i-1]) for i in range(1, len(t))) / (len(t)-1)\n",
    "\n",
    "# example\n",
    "terrain_9 = [0.3, 0.2, 0.3, 0.4, 0.5, 0.9] # expected output: 0.16 -> terrain has low roughness\n",
    "print(f\"Output num.9 : {terrain_roughness(terrain_9):.2f}\")\n",
    "\n",
    "terrain_10 = [0.1, 1.0, 0.1, 0.9, 0.2, 1.0] # expected output: 0.82 -> terrain has high roughness\n",
    "print(f\"Output num.10 : {terrain_roughness(terrain_10):.2f}\")"
   ],
   "id": "13738dd70e11910e",
   "outputs": [
    {
     "name": "stdout",
     "output_type": "stream",
     "text": [
      "Output num.9 : 0.16\n",
      "Output num.10 : 0.82\n"
     ]
    }
   ],
   "execution_count": 10
  },
  {
   "metadata": {},
   "cell_type": "markdown",
   "source": [
    "### Vyhodnovací funkce\n",
    "Tato funkce kombinuje veškerá kritéria plus jednu další aby zjistila jak moc dobrý je daný potomek (terén). Přidal jsem ještě jedno kritérium, které zamezuje příliš velkým vrcholkům, jelikož to tvořilo velmi nepěknou krajinu. Funkce vrací tuple desetinnéh čísla v intervalo (-infinit, 0>. Jelikož chceme maximalizovat fitness potomka chceme co nejvyšší číslo. Pozn. Funkce vrací tuple jelikož tak požaduje funkce knihovny DEAP\n"
   ],
   "id": "e830c85093737b22"
  },
  {
   "metadata": {
    "ExecuteTime": {
     "end_time": "2025-05-02T10:48:48.758114Z",
     "start_time": "2025-05-02T10:48:48.749400Z"
    }
   },
   "cell_type": "code",
   "source": [
    "from main import count_peaks, count_lakes_seas, water_coverage, terrain_variability, terrain_roughness\n",
    "\n",
    "def evaluate(terrain):\n",
    "    peaks = count_peaks(terrain)\n",
    "    lakes, seas = count_lakes_seas(terrain)\n",
    "    coverage = water_coverage(terrain)\n",
    "    variability = terrain_variability(terrain)\n",
    "    roughness = terrain_roughness(terrain)\n",
    "\n",
    "    # punish high peaks\n",
    "    peak_penality = sum(1 for h in terrain if h > 0.8) * -0.5\n",
    "\n",
    "    # Goals: 3-4 peaks, 2–3 lakes, 1-2 seas, 60% water, moderate variability, smoothness\n",
    "    peak_score = -abs(peaks - 3.5) # best if ~3-4 peaks\n",
    "    lake_score = -abs(lakes - 2.5)  # best if ~2–3 lakes\n",
    "    sea_score = -abs(seas - 1.5) # best if ~1–2 seas\n",
    "    water_score = -abs(coverage - 0.6)  # best if ~60% flooded\n",
    "    var_score = -abs(variability - 0.15)  # ideal variability\n",
    "    rough_score = -abs(roughness - 0.2)   # ideal roughness\n",
    "\n",
    "    return peak_score + lake_score + sea_score + water_score + var_score + rough_score + peak_penality,\n",
    "\n",
    "# example\n",
    "terrain_11 = [0.8, 0.2, 0.4, 0.6, 0.5, 0.4, 0.7, 0.4, 0.4, 0.6]\n",
    "\"\"\"\n",
    "expected output: -1.6 --> relatively good terrain\n",
    "peaks: 4\n",
    "lakes: 2\n",
    "seas: 1\n",
    "coverage: 50%\n",
    "variability: 0.17\n",
    "roughness: 0.22\n",
    "\"\"\"\n",
    "print(f\"Output num.11 : {evaluate(terrain_11)}\")\n"
   ],
   "id": "b49da35c839b8de3",
   "outputs": [
    {
     "name": "stdout",
     "output_type": "stream",
     "text": [
      "Output num.11 : (-1.6395542275290373,)\n"
     ]
    }
   ],
   "execution_count": 13
  }
 ],
 "metadata": {
  "kernelspec": {
   "display_name": "Python 3",
   "language": "python",
   "name": "python3"
  },
  "language_info": {
   "codemirror_mode": {
    "name": "ipython",
    "version": 2
   },
   "file_extension": ".py",
   "mimetype": "text/x-python",
   "name": "python",
   "nbconvert_exporter": "python",
   "pygments_lexer": "ipython2",
   "version": "2.7.6"
  }
 },
 "nbformat": 4,
 "nbformat_minor": 5
}
