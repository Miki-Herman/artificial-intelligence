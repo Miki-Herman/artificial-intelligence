{
 "cells": [
  {
   "metadata": {},
   "cell_type": "markdown",
   "source": "# Iterované vězňovo dilema",
   "id": "96727408e5ed2bb9"
  },
  {
   "metadata": {},
   "cell_type": "code",
   "outputs": [],
   "execution_count": null,
   "source": [
    "import random\n",
    "\n",
    "import numpy as np\n",
    "\n",
    "from deap import base, creator, tools, algorithms"
   ],
   "id": "3f4d27690af8b28d"
  },
  {
   "metadata": {},
   "cell_type": "markdown",
   "source": [
    "## Strategie odpovědí\n",
    "obecně jde o funkci tvaru *zrada(moje_historie_tahu, druheho_historie_tahu)* pro seznam minulých rozhodnutí vrátí, zda protihráče v následujícím tahu zradíme (1) nebo ne (0)\n",
    "\n",
    "- první parametr je seznam historie našich tahů\n",
    "- druhý parametr je seznam historie tahů protihráče\n"
   ],
   "id": "7b4c152ef53694ef"
  },
  {
   "metadata": {},
   "cell_type": "code",
   "outputs": [],
   "execution_count": null,
   "source": [
    "\n",
    "# vždy kooperuje\n",
    "def always_cooperate(myhistory, otherhistory):\n",
    "    return 0\n",
    "\n",
    "\n",
    "# náhodná odpověď\n",
    "def random_answer(myhistory, otherhistory):\n",
    "    p = random.random()\n",
    "    if p < 0.5:\n",
    "        return 1\n",
    "\n",
    "    return 0\n",
    "\n",
    "\n",
    "\n"
   ],
   "id": "ec4844cf14246db6"
  },
  {
   "metadata": {},
   "cell_type": "markdown",
   "source": "## Pomocné funkce",
   "id": "4537e5c2e2cf487c"
  },
  {
   "metadata": {},
   "cell_type": "code",
   "outputs": [],
   "execution_count": null,
   "source": [
    "def rozdej_skore(tah1, tah2):\n",
    "    # 1 = zradi, 0 = nezradi\n",
    "\n",
    "    skores = (0, 0)\n",
    "\n",
    "    if (tah1 == 1) and (tah2 == 1):\n",
    "        skores = (2, 2)\n",
    "\n",
    "    if (tah1 == 1) and (tah2 == 0):\n",
    "        skores = (0, 3)\n",
    "\n",
    "    if (tah1 == 0) and (tah2 == 1):\n",
    "        skores = (3, 0)\n",
    "\n",
    "    if (tah1 == 0) and (tah2 == 0):\n",
    "        skores = (1, 1)\n",
    "\n",
    "    return skores\n",
    "\n",
    "\n",
    "def play(f1, f2, stepsnum):\n",
    "\n",
    "    skore1 = 0\n",
    "    skore2 = 0\n",
    "\n",
    "    historie1 = []\n",
    "    historie2 = []\n",
    "\n",
    "    for i in range(stepsnum):\n",
    "        tah1 = f1(historie1, historie2)\n",
    "        tah2 = f2(historie2, historie1)\n",
    "\n",
    "        s1, s2 = rozdej_skore(tah1, tah2)\n",
    "        skore1 += s1\n",
    "        skore2 += s2\n",
    "\n",
    "        historie1.append(tah1)\n",
    "        historie2.append(tah2)\n",
    "\n",
    "    return skore1, skore2\n",
    "\n"
   ],
   "id": "4b73199cb00272d0"
  },
  {
   "metadata": {},
   "cell_type": "code",
   "outputs": [],
   "source": "",
   "id": "7d66f3da61749684",
   "execution_count": null
  },
  {
   "metadata": {},
   "cell_type": "markdown",
   "source": "## Evoluce strategie",
   "id": "bf21059588b9a462"
  },
  {
   "metadata": {
    "scrolled": true
   },
   "cell_type": "code",
   "outputs": [],
   "execution_count": null,
   "source": "# místo pro vlastní evoluci strategie",
   "id": "8128a8ec12644b3d"
  },
  {
   "metadata": {},
   "cell_type": "code",
   "outputs": [],
   "source": "",
   "id": "9361e81094bb63d0",
   "execution_count": null
  },
  {
   "metadata": {},
   "cell_type": "markdown",
   "source": "## Moje funkce",
   "id": "9b3c14611113afe3"
  },
  {
   "metadata": {},
   "cell_type": "code",
   "outputs": [],
   "execution_count": null,
   "source": [
    "# vlastní funkce zrada(moje_historie_tahu, druheho_historie_tahu)\n",
    "# zadrátovaná dle"
   ],
   "id": "6bfbc09ae9bc1caf"
  },
  {
   "metadata": {},
   "cell_type": "code",
   "outputs": [],
   "source": "",
   "id": "4c31299632330875",
   "execution_count": null
  },
  {
   "metadata": {},
   "cell_type": "markdown",
   "source": "## Turnaj",
   "id": "31358f7b3938df78"
  },
  {
   "metadata": {},
   "cell_type": "code",
   "outputs": [],
   "execution_count": null,
   "source": [
    "\n",
    "\n",
    "# seznam funkci o testování\n",
    "ucastnici = [always_cooperate, random_answer]\n",
    "\n",
    "# funkce se mohou v seznamu i opakovat\n",
    "#ucastnici = [always_cooperate, always_cooperate, random_answer, random_answer, random_answer]\n",
    "\n",
    "\n",
    "\n",
    "STEPSNUM = 20\n",
    "\n",
    "\n",
    "l = len(ucastnici)\n",
    "skores = [0 for i in range(l)]\n",
    "\n",
    "print(\"=========================================\")\n",
    "print(\"Turnaj\")\n",
    "print(\"hra délky:\", STEPSNUM)\n",
    "print(\"-----------------------------------------\")\n",
    "\n",
    "\n",
    "for i in range(l):\n",
    "    for j in range(i+1, l):\n",
    "        f1 = ucastnici[i]\n",
    "        f2 = ucastnici[j]\n",
    "        skore1, skore2 = play(f1, f2, STEPSNUM)\n",
    "        print(f1.__name__, \"x\", f2.__name__, \" \", skore1, \":\", skore2)\n",
    "        skores[i] += skore1\n",
    "        skores[j] += skore2\n",
    "\n",
    "\n",
    "print(\"=========================================\")\n",
    "print(\"= Výsledné pořadí\")\n",
    "print(\"-----------------------------------------\")\n",
    "\n",
    "\n",
    "# setrideni indexu vysledku\n",
    "index = sorted(range(l), key=lambda k: skores[k])\n",
    "\n",
    "poradi = 1\n",
    "for i in index:\n",
    "    f = ucastnici[i]\n",
    "    print(poradi, \".\", f.__name__, \":\", skores[i])\n",
    "    poradi += 1\n",
    "\n"
   ],
   "id": "e76f4adab71388db"
  },
  {
   "metadata": {},
   "cell_type": "code",
   "outputs": [],
   "source": "",
   "id": "b64f4fb6c6e3d6d3",
   "execution_count": null
  },
  {
   "metadata": {},
   "cell_type": "code",
   "outputs": [],
   "source": "",
   "id": "156f5f9b62f3d238",
   "execution_count": null
  }
 ],
 "metadata": {
  "kernelspec": {
   "display_name": "Python 3",
   "language": "python",
   "name": "python3"
  },
  "language_info": {
   "codemirror_mode": {
    "name": "ipython",
    "version": 2
   },
   "file_extension": ".py",
   "mimetype": "text/x-python",
   "name": "python",
   "nbconvert_exporter": "python",
   "pygments_lexer": "ipython2",
   "version": "2.7.6"
  }
 },
 "nbformat": 4,
 "nbformat_minor": 5
}
