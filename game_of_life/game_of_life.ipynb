{
 "cells": [
  {
   "metadata": {},
   "cell_type": "markdown",
   "source": [
    "# Game of life\n",
    "\n",
    "\n",
    "\n",
    "\n",
    "adaptace matematické hry Johna Conwaye \"Game of life\", kde jeden řádek předstacuje jednu generaci"
   ],
   "id": "e3b3e8c8382b4b54"
  },
  {
   "metadata": {
    "ExecuteTime": {
     "end_time": "2025-03-12T21:42:54.674434Z",
     "start_time": "2025-03-12T21:42:54.665576Z"
    }
   },
   "cell_type": "code",
   "source": [
    "from game_class import GameOfLife\n",
    "\n",
    "game = GameOfLife()\n",
    "\n",
    "first_gen = [1,0,1,1,0,1,1,0,0,0,1,1,0,1,0,1]\n",
    "\n",
    "game.start_generation(first_gen, 10)\n"
   ],
   "id": "791395dda24e58f",
   "outputs": [
    {
     "name": "stdout",
     "output_type": "stream",
     "text": [
      "# | - | # | # | - | # | # | - | - | - | # | # | - | # | - | #\n",
      "- | - | # | # | - | # | - | # | # | # | - | # | - | # | # | -\n",
      "- | # | - | # | - | # | - | - | # | - | - | # | - | # | - | #\n",
      "- | - | # | # | # | - | # | # | - | # | # | - | # | # | # | -\n",
      "- | # | # | # | - | - | # | # | - | # | # | - | - | # | # | #\n",
      "# | # | # | # | - | - | - | # | - | # | - | - | - | # | # | #\n",
      "# | - | - | # | # | # | - | - | # | - | - | # | # | # | # | #\n",
      "- | # | - | # | # | # | - | # | - | # | - | # | - | - | - | #\n",
      "- | - | - | - | # | - | - | # | # | # | # | - | - | # | - | -\n",
      "- | - | - | - | - | # | - | # | - | - | # | - | # | - | - | -\n",
      "- | - | - | - | - | - | # | - | # | # | - | # | - | - | - | -\n"
     ]
    }
   ],
   "execution_count": 1
  },
  {
   "metadata": {},
   "cell_type": "markdown",
   "source": [
    "## Logika\n",
    "logické operace obstarává třída GameOfLife, která má několik funkcí.\n",
    "\n",
    "### step()\n",
    "Funkce step přebírá parameter row, který představuje řadu buňek generace. Step poté podle jednoduchých pravidel rozhodne, zda-li buňka generace v nové generaci zanikne, přežije nebo se zrodí a vrátí list nové generace.\n",
    "\n",
    "#### pravidla\n",
    "Pravidal jsou velmi jednoduchá a umožňují vysokou pravděpodobnost na přežití buňky. První je důležité si definovat okolí buňky, jelikož hraje velkou roli v samotném přežití, a stavy, kterých může nabýt. Buňky okolí jsou dvě postranní buňky. Jednotlivá buňka může nabýt právě dvou stavů \"alive\" (1) nebo \"dead\" (0). Dále se buňka řídí pár pravidly, které definují její koloběh života. Pokud tedy má živá buňka přesně dvě živé buňky ve svém okolí tak přežívá. Pokud v okolí mrtvé buňky jsou právě dvě živé buňky tak buňka ožívá. Jinak zemře.\n"
   ],
   "id": "7a7acb131a67b8e6"
  },
  {
   "metadata": {},
   "cell_type": "markdown",
   "source": [
    "### print_row()\n",
    "Funkce print_row má stejně jako funkce step parameter row. Tahle funkce však funguje velmi jednoduše a pouze hezky do konzole vykreslí danou generaci. Vykreslování je zajištěno jednoduchou mapou, kde 0 (mrtvá buňka) odpovídá zanku \"-\" a 1 (živá buňka) \"#\". Jendotlivé buňky jsou rozděleny znakem \"|\".\n",
    "\n",
    "### start_generation()\n",
    "Funkce start_generation je funkce, která spustí funkce step a funkce print_row podle počtu generací. Přebírá dva parametry: parametr row -> první generace buněk, a parametr times -> představující počet generací, nebo-li kolikrát se bude list buněk měnit.\n",
    "\n",
    "### code\n"
   ],
   "id": "d6ff15acb3dae693"
  },
  {
   "metadata": {},
   "cell_type": "code",
   "outputs": [],
   "execution_count": null,
   "source": [
    "\n",
    "class GameOfLife:\n",
    "    def __init__(self):\n",
    "        self.map = {\n",
    "            0 : \"-\",\n",
    "            1 : \"#\"\n",
    "        }\n",
    "\n",
    "    def print_row(self, row: list):\n",
    "        \"\"\"\n",
    "        Prints a string representation of a generation of cells\n",
    "        :param row: A list of representing a generation of cells\n",
    "        :return: None\n",
    "        \"\"\"\n",
    "        mapped_row = [self.map[cell] for cell in row]\n",
    "        printable_row = \" | \".join(mapped_row)\n",
    "\n",
    "        print(printable_row)\n",
    "        return\n",
    "\n",
    "    @staticmethod\n",
    "    def step(row: list) -> list:\n",
    "        \"\"\"\n",
    "        0 -> means dead cell, 1 -> alive cell\n",
    "        Rules:\n",
    "            - Neighbouring boxes of a cell are like this --> X X O X X (0 -> a living cell, X -> neighbouring places)\n",
    "            - If cell has exactly two neighbouring cells then it survives\n",
    "            - If an empty cell has exactly two neighbouring cells then it's born\n",
    "            - Else cell dies\n",
    "\n",
    "        :param row: A list of representing a generation of cells\n",
    "        :return: A list of new generation\n",
    "        \"\"\"\n",
    "\n",
    "        new_generation = []\n",
    "        row_len = len(row)\n",
    "\n",
    "        for index in  range(row_len):\n",
    "            # get neighbouring cells\n",
    "            start = max(0, index - 2)\n",
    "            end = min(row_len, index + 3)\n",
    "            neighbouring_cells = row[start: end]\n",
    "\n",
    "            # check if cell will be born\n",
    "            if row[index] == 0 and sum(neighbouring_cells) == 2:\n",
    "                new_generation.append(1)\n",
    "\n",
    "            # check if cell will survive\n",
    "            elif row[index] == 1 and sum(neighbouring_cells) == 3: # sum must be 3 because the checked cell has value of 1\n",
    "                new_generation.append(1)\n",
    "\n",
    "            # else cell dies\n",
    "            else:\n",
    "                new_generation.append(0)\n",
    "\n",
    "        return new_generation\n",
    "\n",
    "    def start_generation(self, row: list, times: int) -> None:\n",
    "        \"\"\"\n",
    "        :param row: A list of representing the first generation of cells\n",
    "        :param times: How many generations should be generated\n",
    "        :return: None\n",
    "        \"\"\"\n",
    "        # print first generation\n",
    "        self.print_row(row)\n",
    "\n",
    "        for i in range(times):\n",
    "            row = self.step(row)\n",
    "            self.print_row(row)\n",
    "\n",
    "        return None\n"
   ],
   "id": "9eb04762fa66a648"
  }
 ],
 "metadata": {
  "kernelspec": {
   "display_name": "Python 3",
   "language": "python",
   "name": "python3"
  },
  "language_info": {
   "codemirror_mode": {
    "name": "ipython",
    "version": 2
   },
   "file_extension": ".py",
   "mimetype": "text/x-python",
   "name": "python",
   "nbconvert_exporter": "python",
   "pygments_lexer": "ipython2",
   "version": "2.7.6"
  }
 },
 "nbformat": 4,
 "nbformat_minor": 5
}
